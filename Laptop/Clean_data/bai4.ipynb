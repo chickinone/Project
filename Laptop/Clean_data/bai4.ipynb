{
 "cells": [
  {
   "cell_type": "markdown",
   "id": "852dcba4",
   "metadata": {},
   "source": [
    "Import thư viện cần thiết"
   ]
  },
  {
   "cell_type": "code",
   "execution_count": null,
   "id": "e02c34a2",
   "metadata": {},
   "outputs": [],
   "source": [
    "import pandas as pd\n",
    "import sqlite3"
   ]
  },
  {
   "cell_type": "markdown",
   "id": "cf0f48ec",
   "metadata": {},
   "source": [
    "Extract: Đọc dữ liệu từ file CSV"
   ]
  },
  {
   "cell_type": "code",
   "execution_count": null,
   "id": "c87c5fdf",
   "metadata": {},
   "outputs": [],
   "source": [
    "df = pd.read_csv(\"sales.csv\")"
   ]
  },
  {
   "cell_type": "markdown",
   "id": "1c09c38e",
   "metadata": {},
   "source": [
    "Transform: Đổi tên các cột như sau"
   ]
  },
  {
   "cell_type": "code",
   "execution_count": null,
   "id": "2d4af10a",
   "metadata": {},
   "outputs": [],
   "source": [
    "df = df.rename(columns={\n",
    "    \"userId\": \"user_id\",\n",
    "    \"title\": \"post_title\",\n",
    "    \"body\": \"post_content\"\n",
    "})"
   ]
  },
  {
   "cell_type": "markdown",
   "id": "8c89ca25",
   "metadata": {},
   "source": [
    "Load: Nạp dữ liệu vào SQLite"
   ]
  },
  {
   "cell_type": "code",
   "execution_count": null,
   "id": "46b0b16a",
   "metadata": {},
   "outputs": [],
   "source": [
    "conn = sqlite3.connect(\"sales.db\")\n",
    "df.to_sql(\"sales_data\", conn, if_exists=\"replace\", index=False)"
   ]
  }
 ],
 "metadata": {
  "language_info": {
   "name": "python"
  }
 },
 "nbformat": 4,
 "nbformat_minor": 5
}
